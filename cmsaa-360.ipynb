{
 "cells": [
  {
   "cell_type": "code",
   "execution_count": 7,
   "metadata": {},
   "outputs": [],
   "source": [
    "from cmsaa import attentional_bias, optimize_prioritymap, rmse\n",
    "from cmsaa import GoalMap, SaliencyMap, PriorityMap\n",
    "\n",
    "import numpy as np"
   ]
  },
  {
   "cell_type": "code",
   "execution_count": 19,
   "metadata": {},
   "outputs": [],
   "source": [
    "def plot_results(x,y,test_y,pm):\n",
    "    # range is from the first x value to the last one\n",
    "    degrees = np.arange(x[0],x[len(x)-1],1)\n",
    "\n",
    "\n",
    "    plt.plot(x,y,'yo')\n",
    "    plt.plot(x,test_y,'kx')\n",
    "    plt.plot(degrees,pm.goalmap,'b')\n",
    "    plt.plot(degrees,pm.saliencymap,'r')\n",
    "    plt.plot(degrees,pm.prioritymap,'g')\n",
    "    plt.show()"
   ]
  },
  {
   "cell_type": "markdown",
   "metadata": {},
   "source": [
    "## 360 Degree Data\n",
    "\n",
    "The priority map is fit to the mean reaction time to stimuli at five locations. \n",
    "\n",
    "The mean reaction time is generated from the experimental data using a bootstrapping approach.\n",
    "\n",
    "The Priority Map is fit to 100 partitions of half of the data (N=31), to identify the optimized parameter values for each partition. To show that the parameters are a good fit for the data as a whole, rmse is calculated for the mean reaction time of the entire data set.\n"
   ]
  },
  {
   "cell_type": "markdown",
   "metadata": {},
   "source": [
    "#### 360 degree data\n",
    "Each data point represents the mean reaction time to stimuli at the respective degree locations: [0,72,144,216,288]."
   ]
  },
  {
   "cell_type": "code",
   "execution_count": null,
   "metadata": {},
   "outputs": [],
   "source": [
    "data_360 = {}\n",
    "stimuli_locations_360 = [0,72,144,216,288]\n",
    "\n",
    "# Attended Location: 0\n",
    "data_360['0'] = [439.9624292,469.5857333,469.7750167,458.5353417,476.6414542]\n",
    "\n",
    "# Attended Location: 90\n",
    "data_360['90'] = [443.7915833,461.009575,462.1513417,476.8956583,451.2019208]\n",
    "\n",
    "# Attended Location: 180\n",
    "data_360['180'] = [460.2720833,475.1819167,476.3540917,489.2502083,490.6492125]\n",
    "\n",
    "# Attended Location 270 (-90)\n",
    "data_360['270'] = [450.4125083,468.191525,490.643275,472.9244708,467.6859792]"
   ]
  },
  {
   "cell_type": "markdown",
   "metadata": {},
   "source": [
    "## 360 Degree Results\n",
    "\n",
    "#### Initialize Values"
   ]
  },
  {
   "cell_type": "code",
   "execution_count": null,
   "metadata": {},
   "outputs": [],
   "source": [
    "init_vals = [0.7662, 50, 0.760506149, 50]\n",
    "min_bounds = [0, 20, 0, 20]\n",
    "max_bounds = [1,1000000,1,1000000]"
   ]
  },
  {
   "cell_type": "markdown",
   "metadata": {},
   "source": [
    "### Results for Attended Location: 0"
   ]
  },
  {
   "cell_type": "code",
   "execution_count": null,
   "metadata": {},
   "outputs": [],
   "source": [
    "attended_location = 180\n",
    "\n",
    "x = np.array(stimuli_locations_360)\n",
    "# attentional bias derived from the mean reaction times at the attended location\n",
    "y = np.array(attentional_bias(data_360[str(attended_location)]))\n",
    "print(x)\n",
    "\n",
    "def shift_left(x,y,attended_location)\n",
    "\n",
    "# need to wrap around view to be shifted so that 0 is the center\n",
    "while x[1] >= attended_location:\n",
    "    \n",
    "    step = 0\n",
    "    \n",
    "    #shift right: remove items from the end and add to start. Shift x value by -72 * shift step - 360\n",
    "    start = x[len(x)-1] - 72*step - 360\n",
    "    x = np.append([start],x[0:len(x)-1])\n",
    "    \n",
    "    start = y[len(y)-1]\n",
    "    y = np.append([start],y[0:len(y)-1])\n",
    "    \n",
    "    step += 1\n",
    "    \n",
    "    print(x)\n",
    "    print(y)\n",
    "\n"
   ]
  },
  {
   "cell_type": "markdown",
   "metadata": {},
   "source": [
    "### Results for Attended Location: 90"
   ]
  },
  {
   "cell_type": "code",
   "execution_count": null,
   "metadata": {},
   "outputs": [],
   "source": [
    "attended_location = 90\n",
    "\n",
    "# attentional bias derived from the mean reaction times at the attended location\n",
    "y = np.array(attentional_bias(data_360[str(attended_location)]))\n",
    "best_vals = optimize_prioritymap(attended_location, x, y, init_vals, min_bounds, max_bounds)\n",
    "\n",
    "degrees = np.arange(x[0],x[4],1)\n",
    "pm = PriorityMap(attended_location)\n",
    "pm.standard(degrees,*best_vals)\n",
    "error = rmse(x,pm.prioritymap,y)\n",
    "\n",
    "print('Attended Location: ' + str(attended_location))\n",
    "print('Error:' + str(error))\n",
    "\n",
    "# wrapping around since we are visualizing a 360 degree environment\n",
    "x = [-72,0,72,144,216]\n",
    "y = [y[4],y[0],y[1],y[2],y[3]]\n",
    "\n",
    "plot_results(x, y, pm)"
   ]
  },
  {
   "cell_type": "markdown",
   "metadata": {},
   "source": [
    "### Results for Attended Location: 180"
   ]
  },
  {
   "cell_type": "code",
   "execution_count": null,
   "metadata": {},
   "outputs": [],
   "source": [
    "attended_location = 180\n",
    "\n",
    "x = stimuli_locations_360\n",
    "\n",
    "# attentional bias derived from the mean reaction times at the attended location\n",
    "y = np.array(attentional_bias(data_360[str(attended_location)]))\n",
    "\n",
    "best_vals = optimize_prioritymap(attended_location, x, y, init_vals, min_bounds, max_bounds)\n",
    "\n",
    "degrees = np.arange(x[0],x[4],1)\n",
    "pm = PriorityMap(attended_location)\n",
    "pm.standard(degrees,*best_vals)\n",
    "error = rmse(x,pm.prioritymap,y)\n",
    "\n",
    "print('Attended Location: ' + str(attended_location))\n",
    "print('Error:' + str(error))\n",
    "\n",
    "plot_results(x, y, pm)"
   ]
  },
  {
   "cell_type": "markdown",
   "metadata": {},
   "source": [
    "### Results for Attended Location: 270"
   ]
  },
  {
   "cell_type": "code",
   "execution_count": null,
   "metadata": {},
   "outputs": [],
   "source": [
    "# setting attended location to 0 because the view goes from -216 to +72, so we shift our perspective\n",
    "attended_location = -90\n",
    "\n",
    "# attentional bias derived from the mean reaction times at the attended location\n",
    "y = np.array(attentional_bias(data_360[str(attended_location)]))\n",
    "best_vals = optimize_prioritymap(attended_location, x, y, init_vals, min_bounds, max_bounds)\n",
    "\n",
    "degrees = np.arange(x[0],x[4],1)\n",
    "pm = PriorityMap(attended_location)\n",
    "pm.standard(degrees,*best_vals)\n",
    "error = rmse(x,pm.prioritymap,y)\n",
    "\n",
    "print('Attended Location: ' + str(attended_location))\n",
    "print('Error:' + str(error))\n",
    "\n",
    "# wrapping around since we are visualizing a 360 degree environment\n",
    "x = [-216,-144,-72,0,72]\n",
    "y = [y[2],y[3],y[4],y[0],y[1]]\n",
    "\n",
    "plot_results(x, y, pm)"
   ]
  }
 ],
 "metadata": {
  "kernelspec": {
   "display_name": "Python 3",
   "language": "python",
   "name": "python3"
  },
  "language_info": {
   "codemirror_mode": {
    "name": "ipython",
    "version": 3
   },
   "file_extension": ".py",
   "mimetype": "text/x-python",
   "name": "python",
   "nbconvert_exporter": "python",
   "pygments_lexer": "ipython3",
   "version": "3.5.6"
  }
 },
 "nbformat": 4,
 "nbformat_minor": 2
}
