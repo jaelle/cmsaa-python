{
 "cells": [
  {
   "cell_type": "code",
   "execution_count": 5,
   "metadata": {},
   "outputs": [],
   "source": [
    "from cmsaa import attentional_bias, optimize_prioritymap, rmse,plot_results\n",
    "from cmsaa import GoalMap, SaliencyMap, PriorityMap\n",
    "import matplotlib.pyplot as plt\n",
    "import csv\n",
    "\n",
    "import numpy as np"
   ]
  },
  {
   "cell_type": "markdown",
   "metadata": {},
   "source": [
    "## 180 Degree Data\n",
    "\n",
    "The priority map is fit to the mean reaction time to stimuli at five locations. \n",
    "\n",
    "The mean reaction time is generated from the experimental data using a bootstrapping approach.\n",
    "\n",
    "The Priority Map is fit to 100 partitions of half of the data (N=31), to identify the optimized parameter values for each partition. To show that the parameters are a good fit for the data as a whole, rmse is calculated for the mean reaction time of the entire data set.\n"
   ]
  },
  {
   "cell_type": "code",
   "execution_count": 6,
   "metadata": {},
   "outputs": [],
   "source": [
    "data_180 = {}\n",
    "test_180 = {}\n",
    "stimuli_locations_180 = [-90,-45,0,45,90]\n",
    "\n",
    "\n",
    "np_data = np.loadtxt('data/180degree.csv',delimiter=',',skiprows=1)\n",
    "partitions = np.loadtxt('data/bootstrap_partitions.csv',dtype=int,delimiter=',')"
   ]
  },
  {
   "cell_type": "markdown",
   "metadata": {},
   "source": [
    "## 180 Degree Results\n",
    "\n",
    "#### Initialize Values"
   ]
  },
  {
   "cell_type": "code",
   "execution_count": 7,
   "metadata": {},
   "outputs": [],
   "source": [
    "x = np.array(stimuli_locations_180)\n",
    "\n",
    "init_vals = [0.7662, 50, 0.760506149, 50]\n",
    "min_bounds = 0\n",
    "max_bounds = [0.79,1000000,5,1000000]\n",
    "\n",
    "save_rows = []"
   ]
  },
  {
   "cell_type": "code",
   "execution_count": 8,
   "metadata": {},
   "outputs": [],
   "source": [
    "for i in range(len(partitions)):\n",
    "    \n",
    "    training_set = []\n",
    "\n",
    "    for col in partitions[i]:\n",
    "        training_set += [np_data[col]]\n",
    "\n",
    "    training_set = np.array(training_set)\n",
    "\n",
    "    bootstrap_means = np.mean(training_set,axis=0)\n",
    "    alldata_means = np.mean(np_data,axis=0)\n",
    "\n",
    "    data_180['-90'] = bootstrap_means[0:5]\n",
    "    data_180['0'] = bootstrap_means[5:10]\n",
    "    data_180['90'] = bootstrap_means[10:15]\n",
    "\n",
    "    test_180['-90'] = alldata_means[0:5]\n",
    "    test_180['0'] = alldata_means[5:10]\n",
    "    test_180['90'] = alldata_means[10:15]\n",
    "    \n",
    "    for attended_location in [-90,0,90]:\n",
    "\n",
    "        # attentional bias derived from the mean reaction times at the attended location\n",
    "        y = np.array(attentional_bias(data_180[str(attended_location)]))\n",
    "        best_vals = optimize_prioritymap(attended_location, x, y, init_vals, min_bounds, max_bounds)\n",
    "\n",
    "        degrees = np.arange(x[0],x[4],1)\n",
    "        pm = PriorityMap(attended_location)\n",
    "        pm.standard(degrees,*best_vals)\n",
    "\n",
    "        train_error = rmse(x,pm.prioritymap,y)\n",
    "\n",
    "        test_y = np.array(attentional_bias(test_180[str(attended_location)]))\n",
    "        test_error = rmse(x,pm.prioritymap,test_y)\n",
    "\n",
    "        plot_results(x, y, test_y, pm, 'results/images/' + str(attended_location) + '/180_' + str(attended_location) + '_bootstrap_' + str(i) + '.png')\n",
    "        save_cols = [180,attended_location,i]\n",
    "        save_cols = np.append(save_cols,best_vals)\n",
    "        save_cols = np.append(save_cols,[train_error,test_error])\n",
    "\n",
    "        save_cols = np.array(save_cols,dtype=np.str)\n",
    "\n",
    "        save_rows += [save_cols]\n",
    "\n",
    "save_rows = np.array(save_rows).tolist()\n",
    "save_rows = [['standard location','stimuli location','bootstrap row','gm mag','gm stdev','sm mag','sm stdev','train error','test error']] + save_rows\n",
    "\n",
    "with open('results/180_params.csv','w') as fp:\n",
    "    writer = csv.writer(fp,lineterminator='\\n')\n",
    "    writer.writerows(save_rows)"
   ]
  },
  {
   "cell_type": "code",
   "execution_count": null,
   "metadata": {},
   "outputs": [],
   "source": [
    "\n"
   ]
  }
 ],
 "metadata": {
  "kernelspec": {
   "display_name": "Python 3",
   "language": "python",
   "name": "python3"
  },
  "language_info": {
   "codemirror_mode": {
    "name": "ipython",
    "version": 3
   },
   "file_extension": ".py",
   "mimetype": "text/x-python",
   "name": "python",
   "nbconvert_exporter": "python",
   "pygments_lexer": "ipython3",
   "version": "3.5.6"
  }
 },
 "nbformat": 4,
 "nbformat_minor": 2
}
